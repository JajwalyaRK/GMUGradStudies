{
 "cells": [
  {
   "cell_type": "code",
   "execution_count": 2,
   "metadata": {},
   "outputs": [],
   "source": [
    "import tweepy\n",
    "\n",
    "consumer_key = \"PEGzpPB5gz0vGWgcapxMVyNdp\"\n",
    "\n",
    "consumer_secret = \"LxTTXhFkRHI8wPRSxEnCaKwh28mrfIqVTEe2vPJB3WMmNr0oZc\"\n",
    "\n",
    "access_token = \"29921343-kKCBZ1CmgjsqkZlTQYW1KoCyxla0w01iMlFjczZJs\"\n",
    "\n",
    "access_token_secret = \"h8TmlhzpVWdBNg08d9AHnKs8WxxU5B1frnaK6NsIaW0gX\""
   ]
  },
  {
   "cell_type": "code",
   "execution_count": 6,
   "metadata": {},
   "outputs": [
    {
     "name": "stdout",
     "output_type": "stream",
     "text": [
      "The San Francisco Bay Area and metropolitan Manila sit on opposite sides of the Pacific Ocean. One city rich, the o… https://t.co/hS7gCNotvE\n",
      "Running a startup can be challenging but there are resources out there to make it easier. Starting today GitHub Ent… https://t.co/0ICPi32oP5\n",
      "RT @joshtpm: When you’ve spent nine months trashing every other candidate in succession as a hypocritical sell out neoliberal sack of shit.…\n",
      "#FTTE https://t.co/6Qev8jlj5Y\n",
      "We hope to see you all in 2 weeks! https://t.co/poLqmBKYMt\n",
      "RT @ProfChristen: Come and join our amazing interdisciplinary program! Please pass on! @tmcphers @profwernimont @craigdietrich @kristinarol…\n",
      "listen to then  and repeat it when you get Germans complaining about Dresden https://t.co/xR1FSlzngE\n",
      "RT @KarlBode: 👏👏👏👏👏👏 https://t.co/vL6QWEsoAS\n",
      "RT @jmpalmieri: Msg to women working in politics: Some of us resist being quoted in stories or going on TV bc we think it’s self-promotiona…\n",
      "Wut https://t.co/feXLaoGuv0\n",
      "RT @LAM_Barrett: I wrote about how conservatives' embrace of the godawful sprintmobile deal &amp; their relative silence on big telcos are 2 ex…\n",
      "What do you do when the sea comes for your home, your school, your church? To understand how millions of people are… https://t.co/35E9cD8i4f\n",
      "he can go where he wants\n",
      "is this peevishness https://t.co/Hvyb9XbGVX\n",
      "My god https://t.co/1xib50eDVd\n",
      "RT @haaretzcom: India invited far-right EU politicians to tour Kashmir. India’s own opposition leaders are still prohibited from accessing…\n",
      "My god https://t.co/MobJcVskuB\n",
      "RT @DouglasCarswell: The chances of this are growing! 🇺🇸 🇬🇧 https://t.co/oEUVNrFGQ6\n",
      "RT @GWBooks: Thanks for sharing! Folks might be interested to know that our Library and Curatorial teams have installed a temporary exhibit…\n",
      "RT @TeachPrivacy: One of @DanielSolove's recent cartoons on Data Use and Transparency #privacy https://t.co/gIzoJCbr0O https://t.co/OGDcW6M…\n"
     ]
    }
   ],
   "source": [
    "auth = tweepy.OAuthHandler(consumer_key, consumer_secret)\n",
    "auth.set_access_token(access_token, access_token_secret)\n",
    "\n",
    "api = tweepy.API(auth)\n",
    "\n",
    "public_tweets = api.home_timeline()\n",
    "for tweet in public_tweets:\n",
    "    print(tweet.text)"
   ]
  },
  {
   "cell_type": "code",
   "execution_count": 7,
   "metadata": {},
   "outputs": [
    {
     "name": "stdout",
     "output_type": "stream",
     "text": [
      "Twitter\n",
      "57247921\n",
      "DaddyJew\n",
      "ArfMeasures\n",
      "MatthaiosTBW\n",
      "AskMeWhatIWant\n",
      "RyBrooks\n",
      "WIFICUTE\n",
      "roobeekeane\n",
      "Jesspicado\n",
      "GrampaSweater\n",
      "Acidic_Blonde\n",
      "MarlyFitzgerald\n",
      "victoriiaraine\n",
      "zoexrouton\n",
      "mommajessiec\n",
      "lmegordon\n",
      "MaryJustice86\n",
      "ThoughtsFromDev\n",
      "wormskeleton\n",
      "FattMernandez\n",
      "joshweller\n"
     ]
    }
   ],
   "source": [
    "\n",
    "\n",
    "user = api.get_user('twitter')\n",
    "print(user.screen_name)\n",
    "print(user.followers_count)\n",
    "for friend in user.friends():\n",
    "   print(friend.screen_name)"
   ]
  },
  {
   "cell_type": "code",
   "execution_count": 10,
   "metadata": {},
   "outputs": [
    {
     "name": "stdout",
     "output_type": "stream",
     "text": [
      "RT @CydrinHD: Today's the day... presenting at H818 The Networked Practitioner online confrence about *Unlocking Digital Scholarship for NC…\n",
      "Today's the day... presenting at H818 The Networked Practitioner online confrence about *Unlocking Digital Scholars… https://t.co/Ff57K6sRFK\n",
      "RT @ARLnews: Are you looking to develop your digital scholarship skills? Apply for the June 2020 ARL Digital Scholarship Institute, hosted…\n",
      "Curious about the world of free and open source GIS software? It’s time to give QGIS a try at the 'Intro to QGIS' w… https://t.co/lQM42Wxvbi\n",
      "New article on my Analogue Brain in a Digital World site by my colleague Kathryn Kelly\n",
      "https://t.co/WMigkzMrht… https://t.co/pNGRDpSde4\n"
     ]
    }
   ],
   "source": [
    "MAX_TWEETS = 5\n",
    "\n",
    "for tweet in tweepy.Cursor(api.search, q='#digitalscholarship', rpp=100).items(MAX_TWEETS):\n",
    "    print(tweet.text)\n",
    "    pass"
   ]
  }
 ],
 "metadata": {
  "kernelspec": {
   "display_name": "Python 3.7.3 64-bit",
   "language": "python",
   "name": "python37364bitde3af7331ab1422ba9887d5db45a0568"
  },
  "language_info": {
   "codemirror_mode": {
    "name": "ipython",
    "version": 3
   },
   "file_extension": ".py",
   "mimetype": "text/x-python",
   "name": "python",
   "nbconvert_exporter": "python",
   "pygments_lexer": "ipython3",
   "version": "3.7.3"
  }
 },
 "nbformat": 4,
 "nbformat_minor": 2
}
